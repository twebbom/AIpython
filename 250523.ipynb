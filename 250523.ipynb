{
  "nbformat": 4,
  "nbformat_minor": 0,
  "metadata": {
    "colab": {
      "provenance": []
    },
    "kernelspec": {
      "name": "python3",
      "display_name": "Python 3"
    },
    "language_info": {
      "name": "python"
    }
  },
  "cells": [
    {
      "cell_type": "code",
      "execution_count": null,
      "metadata": {
        "colab": {
          "base_uri": "https://localhost:8080/"
        },
        "id": "94W1C38EsI7l",
        "outputId": "b573d5d0-cf64-4761-88fd-8dc077edd7e5"
      },
      "outputs": [
        {
          "output_type": "stream",
          "name": "stdout",
          "text": [
            "문제1: 데이터프레임\n",
            "    학번    이름   학년   점수 분반  공부시간\n",
            "0    1  신사임당  NaN   69  B     4\n",
            "1    2   홍길동  1.0   92  B     3\n",
            "2    3   강감찬  4.0   91  C    20\n",
            "3    4   강감찬  2.0   70  C     5\n",
            "4    5   강감찬  3.0   83  C     5\n",
            "5    6   이순신  4.0   95  A     0\n",
            "6    7   강감찬  4.0   71  C     1\n",
            "7    8   김유신  NaN   88  B     5\n",
            "8    9  신사임당  3.0   94  A     9\n",
            "9   10   홍길동  NaN   60  B     3\n",
            "10  11   NaN  1.0  200  C     0\n",
            "11  12  신사임당  2.0   96  A    20\n",
            "12  13   김유신  4.0   65  A     0\n",
            "13  14   NaN  2.0   98  C     1\n",
            "14  15   홍길동  4.0   77  A     2\n",
            "15  16   이순신  4.0   75  A     4\n",
            "16  17   NaN  3.0   64  A     2\n",
            "17  18   홍길동  4.0   91  A     0\n",
            "18  19   이순신  1.0  200  A     3\n",
            "19  20  신사임당  2.0   61  A     2\n",
            "20  20  신사임당  2.0   61  A     2\n"
          ]
        }
      ],
      "source": [
        "import pandas as pd\n",
        "import numpy as np\n",
        "\n",
        "#csv 파일 읽기\n",
        "df = pd.read_csv('example_data.csv', encoding='utf-8')\n",
        "print('문제1: 데이터프레임')\n",
        "print(df)"
      ]
    },
    {
      "cell_type": "code",
      "source": [
        "# 문제2: 기본 정보 출력\n",
        "print('문제2: 데이터프레임 정보 요약')\n",
        "df.info()"
      ],
      "metadata": {
        "colab": {
          "base_uri": "https://localhost:8080/"
        },
        "id": "HNI7aRLzscyP",
        "outputId": "aa75bbc2-e909-4853-d95b-6936d69d3798"
      },
      "execution_count": null,
      "outputs": [
        {
          "output_type": "stream",
          "name": "stdout",
          "text": [
            "문제2: 데이터프레임 정보 요약\n",
            "<class 'pandas.core.frame.DataFrame'>\n",
            "RangeIndex: 21 entries, 0 to 20\n",
            "Data columns (total 6 columns):\n",
            " #   Column  Non-Null Count  Dtype  \n",
            "---  ------  --------------  -----  \n",
            " 0   학번      21 non-null     int64  \n",
            " 1   이름      18 non-null     object \n",
            " 2   학년      18 non-null     float64\n",
            " 3   점수      21 non-null     int64  \n",
            " 4   분반      21 non-null     object \n",
            " 5   공부시간    21 non-null     int64  \n",
            "dtypes: float64(1), int64(3), object(2)\n",
            "memory usage: 1.1+ KB\n"
          ]
        }
      ]
    },
    {
      "cell_type": "code",
      "source": [
        "# 문제3: 숫자 데이터의 기초 통계량 출력\n",
        "print('3번: 숫자형 데이터 기술 통계량')\n",
        "describe = df.describe()\n",
        "print(describe)"
      ],
      "metadata": {
        "colab": {
          "base_uri": "https://localhost:8080/"
        },
        "id": "_wunsWqZs-dv",
        "outputId": "bc0b0a9f-9edc-4d48-c9b3-c152091200dd"
      },
      "execution_count": null,
      "outputs": [
        {
          "output_type": "stream",
          "name": "stdout",
          "text": [
            "3번: 숫자형 데이터 기술 통계량\n",
            "              학번         학년          점수       공부시간\n",
            "count  21.000000  18.000000   21.000000  21.000000\n",
            "mean   10.952381   2.777778   90.523810   4.333333\n",
            "std     6.127611   1.165966   38.647922   5.650959\n",
            "min     1.000000   1.000000   60.000000   0.000000\n",
            "25%     6.000000   2.000000   69.000000   1.000000\n",
            "50%    11.000000   3.000000   83.000000   3.000000\n",
            "75%    16.000000   4.000000   94.000000   5.000000\n",
            "max    20.000000   4.000000  200.000000  20.000000\n"
          ]
        }
      ]
    },
    {
      "cell_type": "code",
      "source": [
        "# 문제4 : 결측치 확인하기\n",
        "print('문제4: 각 열의 결측치 확인')\n",
        "missing_values = df.isnull().sum()\n",
        "print(missing_values)"
      ],
      "metadata": {
        "colab": {
          "base_uri": "https://localhost:8080/"
        },
        "id": "M5K2QuChtJ9u",
        "outputId": "f647bb23-574e-4c24-8db1-657efecb72b5"
      },
      "execution_count": null,
      "outputs": [
        {
          "output_type": "stream",
          "name": "stdout",
          "text": [
            "문제4: 각 열의 결측치 확인\n",
            "학번      0\n",
            "이름      3\n",
            "학년      3\n",
            "점수      0\n",
            "분반      0\n",
            "공부시간    0\n",
            "dtype: int64\n"
          ]
        }
      ]
    },
    {
      "cell_type": "code",
      "source": [
        "# 문제 5: 이상치 확인하기\n",
        "print('문제5: 이상치 확인 (조건식)')\n",
        "outliers = df[(df['점수']>100) | (df['공부시간']>10)]\n",
        "print(f'\\n이상치 개수 : {len(outliers)}')\n",
        "print('\\n이상치 데이터:')\n",
        "print(outliers)"
      ],
      "metadata": {
        "colab": {
          "base_uri": "https://localhost:8080/"
        },
        "id": "ppXX90VNtdaV",
        "outputId": "ff963d80-d906-4eff-8d9a-67b5d4c9605b"
      },
      "execution_count": null,
      "outputs": [
        {
          "output_type": "stream",
          "name": "stdout",
          "text": [
            "문제5: 이상치 확인 (조건식)\n",
            "\n",
            "이상치 개수 : 4\n",
            "\n",
            "이상치 데이터:\n",
            "    학번    이름   학년   점수 분반  공부시간\n",
            "2    3   강감찬  4.0   91  C    20\n",
            "10  11   NaN  1.0  200  C     0\n",
            "11  12  신사임당  2.0   96  A    20\n",
            "18  19   이순신  1.0  200  A     3\n"
          ]
        }
      ]
    },
    {
      "cell_type": "code",
      "source": [
        "# 문제 6: 중복 데이터 확인하기\n",
        "print('문제 6: 완전 중복 행 확인')\n",
        "print(f'중복 제거 전 데이터프레임 크기: {df.shape}')\n",
        "df_duplicates = df[df.duplicated(keep=False)]\n",
        "print(f'중복 행 개수 : {len(df_duplicates)}')\n",
        "print(df_duplicates)"
      ],
      "metadata": {
        "colab": {
          "base_uri": "https://localhost:8080/"
        },
        "id": "5_BAUNDUuSUN",
        "outputId": "dba06bdb-37d7-4792-94da-ede7068e2c59"
      },
      "execution_count": null,
      "outputs": [
        {
          "output_type": "stream",
          "name": "stdout",
          "text": [
            "문제 6: 완전 중복 행 확인\n",
            "중복 제거 전 데이터프레임 크기: (21, 6)\n",
            "중복 행 개수 : 2\n",
            "    학번    이름   학년  점수 분반  공부시간\n",
            "19  20  신사임당  2.0  61  A     2\n",
            "20  20  신사임당  2.0  61  A     2\n"
          ]
        }
      ]
    },
    {
      "cell_type": "code",
      "source": [
        "# 문제 7: 중복 데이터 삭제하기\n",
        "print('문제7: 완정 중복 제거')\n",
        "df_no_duplicates = df.drop_duplicates()\n",
        "print(f'중복 제거 후 데이터프레임 크기: {df_no_duplicates.shape}')\n",
        "print(f'제거된 행 수: {len(df)-len(df_no_duplicates)}')\n",
        "print(df_no_duplicates)"
      ],
      "metadata": {
        "colab": {
          "base_uri": "https://localhost:8080/"
        },
        "id": "Jr1CPJ0ou3k9",
        "outputId": "ea3bd3eb-143f-4968-8b67-498757c52144"
      },
      "execution_count": null,
      "outputs": [
        {
          "output_type": "stream",
          "name": "stdout",
          "text": [
            "문제7: 완정 중복 제거\n",
            "중복 제거 후 데이터프레임 크기: (20, 6)\n",
            "제거된 행 수: 1\n",
            "    학번    이름   학년   점수 분반  공부시간\n",
            "0    1  신사임당  NaN   69  B     4\n",
            "1    2   홍길동  1.0   92  B     3\n",
            "2    3   강감찬  4.0   91  C    20\n",
            "3    4   강감찬  2.0   70  C     5\n",
            "4    5   강감찬  3.0   83  C     5\n",
            "5    6   이순신  4.0   95  A     0\n",
            "6    7   강감찬  4.0   71  C     1\n",
            "7    8   김유신  NaN   88  B     5\n",
            "8    9  신사임당  3.0   94  A     9\n",
            "9   10   홍길동  NaN   60  B     3\n",
            "10  11   NaN  1.0  200  C     0\n",
            "11  12  신사임당  2.0   96  A    20\n",
            "12  13   김유신  4.0   65  A     0\n",
            "13  14   NaN  2.0   98  C     1\n",
            "14  15   홍길동  4.0   77  A     2\n",
            "15  16   이순신  4.0   75  A     4\n",
            "16  17   NaN  3.0   64  A     2\n",
            "17  18   홍길동  4.0   91  A     0\n",
            "18  19   이순신  1.0  200  A     3\n",
            "19  20  신사임당  2.0   61  A     2\n"
          ]
        }
      ]
    },
    {
      "cell_type": "code",
      "source": [
        "# 문제 9: 시각화\n",
        "import matplotlib.pyplot as plt\n",
        "import seaborn as sns\n",
        "#plt.rc('font', family='NanumBarunGothic')\n",
        "plt.figure(figsize=(10, 6))\n",
        "plt.scatter(df['공부시간'], df['점수'], alpha=0.7)\n",
        "plt.title('data: study time vs score', fontsize=14)\n",
        "plt.xlabel('study time', fontsize=12)\n",
        "plt.ylabel('score', fontsize=12)\n",
        "plt.grid(True, alpha=0.3)\n"
      ],
      "metadata": {
        "colab": {
          "base_uri": "https://localhost:8080/",
          "height": 500
        },
        "id": "F8TPZornv6lB",
        "outputId": "e781e373-3d78-4ab7-ed58-e1e58fe07bef"
      },
      "execution_count": null,
      "outputs": [
        {
          "output_type": "display_data",
          "data": {
            "text/plain": [
              "<Figure size 1000x600 with 1 Axes>"
            ],
            "image/png": "[encoded data removed]"
          },
          "metadata": {}
        }
      ]
    },
    {
      "cell_type": "code",
      "source": [
        "data = pd.Series([10, 11, 12, 13, 14, 15, 100, 101])\n",
        "Q1 = data.quantile(0.25)\n",
        "Q3 = data.quantile(0.75)\n",
        "IQR = Q3 - Q1\n",
        "lower_bound = Q1 - 1.5 * IQR\n",
        "upper_bound = Q3 + 1.5 * IQR\n",
        "print(lower_bound)\n",
        "print(upper_bound)"
      ],
      "metadata": {
        "colab": {
          "base_uri": "https://localhost:8080/"
        },
        "id": "siy6fIrLzrSX",
        "outputId": "10b7dbf0-18c7-4f66-a5f7-8897ca2fb2e8"
      },
      "execution_count": null,
      "outputs": [
        {
          "output_type": "stream",
          "name": "stdout",
          "text": [
            "-25.0\n",
            "73.0\n"
          ]
        }
      ]
    },
    {
      "cell_type": "code",
      "source": [
        "# 문제 10: 이상치 데이터 탐색 및 제거\n",
        "Q1 = df['점수'].quantile(0.25)\n",
        "Q3 = df['점수'].quantile(0.75)\n",
        "IQR = Q3 - Q1\n",
        "Lower_bound = Q1 - 1.5 * IQR\n",
        "Upper_bound = Q3 + 1.5 * IQR\n",
        "score_outliers = df[(df['점수']<Lower_bound) | (df['점수']>Upper_bound)]\n",
        "print('점수 이상치:')\n",
        "print(score_outliers)\n",
        "\n",
        "q1 = df['공부시간'].quantile(0.25)\n",
        "q3 = df['공부시간'].quantile(0.75)\n",
        "iqr = q3 - q1\n",
        "lower_bound = q1 - 1.5 * iqr\n",
        "upper_bound = q3 + 1.5 * iqr\n",
        "time_outliers = df[(df['공부시간']<lower_bound) | (df['공부시간']>upper_bound)]\n",
        "print('공부시간 이상치:')\n",
        "print(time_outliers)\n",
        "\n",
        "print('이상치가 제거된 데이터프레임')\n",
        "df_no_outliers = df[(df['점수']>=Lower_bound) & (df['점수']<=Upper_bound) &\n",
        "                    (df['공부시간']>=lower_bound) & (df['공부시간']<=upper_bound)]\n",
        "df_no_outliers = df_no_outliers.reset_index()\n",
        "print(df_no_outliers)"
      ],
      "metadata": {
        "id": "w8WU6lPVv9JU",
        "colab": {
          "base_uri": "https://localhost:8080/"
        },
        "outputId": "ef2a79f8-374a-4ead-92d4-c5a0c3fe2468"
      },
      "execution_count": null,
      "outputs": [
        {
          "output_type": "stream",
          "name": "stdout",
          "text": [
            "점수 이상치:\n",
            "    학번   이름   학년   점수 분반  공부시간\n",
            "10  11  NaN  1.0  200  C     0\n",
            "18  19  이순신  1.0  200  A     3\n",
            "공부시간 이상치:\n",
            "    학번    이름   학년  점수 분반  공부시간\n",
            "2    3   강감찬  4.0  91  C    20\n",
            "11  12  신사임당  2.0  96  A    20\n",
            "이상치가 제거된 데이터프레임\n",
            "    index  학번    이름   학년  점수 분반  공부시간\n",
            "0       0   1  신사임당  NaN  69  B     4\n",
            "1       1   2   홍길동  1.0  92  B     3\n",
            "2       3   4   강감찬  2.0  70  C     5\n",
            "3       4   5   강감찬  3.0  83  C     5\n",
            "4       5   6   이순신  4.0  95  A     0\n",
            "5       6   7   강감찬  4.0  71  C     1\n",
            "6       7   8   김유신  NaN  88  B     5\n",
            "7       8   9  신사임당  3.0  94  A     9\n",
            "8       9  10   홍길동  NaN  60  B     3\n",
            "9      12  13   김유신  4.0  65  A     0\n",
            "10     13  14   NaN  2.0  98  C     1\n",
            "11     14  15   홍길동  4.0  77  A     2\n",
            "12     15  16   이순신  4.0  75  A     4\n",
            "13     16  17   NaN  3.0  64  A     2\n",
            "14     17  18   홍길동  4.0  91  A     0\n",
            "15     19  20  신사임당  2.0  61  A     2\n",
            "16     20  20  신사임당  2.0  61  A     2\n"
          ]
        }
      ]
    },
    {
      "cell_type": "code",
      "source": [
        "# 문제 11: 데이터 그룹핑\n",
        "group_mean = df_no_outliers.groupby('분반')['점수'].mean()\n",
        "print(group_mean.round(2))"
      ],
      "metadata": {
        "colab": {
          "base_uri": "https://localhost:8080/"
        },
        "id": "R6l_B1q5x2Mq",
        "outputId": "b8baca87-fcd2-46ec-ebb0-315ce20359cc"
      },
      "execution_count": null,
      "outputs": [
        {
          "output_type": "stream",
          "name": "stdout",
          "text": [
            "분반\n",
            "A    75.89\n",
            "B    77.25\n",
            "C    80.50\n",
            "Name: 점수, dtype: float64\n"
          ]
        }
      ]
    },
    {
      "cell_type": "code",
      "source": [
        "# 문제 12: 데이터 시각화\n",
        "plt.bar(group_mean.index, group_mean.values, color='skyblue', width=0.6)\n",
        "plt.title('mean score for class', fontsize=16)\n",
        "plt.xlabel('class', fontsize=14)\n",
        "plt.ylabel('mean score', fontsize=14)\n",
        "plt.grid(axis='y', alpha=0.3)\n",
        "plt.show()"
      ],
      "metadata": {
        "colab": {
          "base_uri": "https://localhost:8080/",
          "height": 479
        },
        "id": "8PmpZrTN5bwq",
        "outputId": "a99b26aa-9637-4fb3-e7f6-104df69fdc98"
      },
      "execution_count": null,
      "outputs": [
        {
          "output_type": "display_data",
          "data": {
            "text/plain": [
              "<Figure size 640x480 with 1 Axes>"
            ],
            "image/png": "[encoded data removed]"
          },
          "metadata": {}
        }
      ]
    },
    {
      "cell_type": "code",
      "source": [
        "plt.scatter(df_no_outliers['공부시간'], df_no_outliers['점수'])\n",
        "plt.title('relationship of study time and score', fontsize=16)\n",
        "plt.xlabel('study time', fontsize=14)\n",
        "plt.ylabel('score', fontsize=14)\n",
        "plt.grid(True, alpha=0.3)\n",
        "plt.show()"
      ],
      "metadata": {
        "colab": {
          "base_uri": "https://localhost:8080/",
          "height": 479
        },
        "id": "PmYgLW3x4FoU",
        "outputId": "12ad06fb-d479-41f6-eca6-8d95fe0cd356"
      },
      "execution_count": null,
      "outputs": [
        {
          "output_type": "display_data",
          "data": {
            "text/plain": [
              "<Figure size 640x480 with 1 Axes>"
            ],
            "image/png": "[encoded data removed]"
          },
          "metadata": {}
        }
      ]
    }
  ]
}