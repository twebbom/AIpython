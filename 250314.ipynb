{
  "nbformat": 4,
  "nbformat_minor": 0,
  "metadata": {
    "colab": {
      "provenance": []
    },
    "kernelspec": {
      "name": "python3",
      "display_name": "Python 3"
    },
    "language_info": {
      "name": "python"
    }
  },
  "cells": [
    {
      "cell_type": "code",
      "execution_count": 1,
      "metadata": {
        "colab": {
          "base_uri": "https://localhost:8080/"
        },
        "id": "-8pWCydedduB",
        "outputId": "61c9f824-33a1-4b93-c836-921df0ddc143"
      },
      "outputs": [
        {
          "output_type": "stream",
          "name": "stdout",
          "text": [
            "78.5398\n"
          ]
        }
      ],
      "source": [
        "# 문제1\n",
        "# 반지름이 5인 원의 면적을 구하시오.\n",
        "# pi(원주율) 값은 3.141592로 계산합니다.\n",
        "\n",
        "radius = 5\n",
        "pi = 3.141592\n",
        "\n",
        "area = pi * radius ** 2\n",
        "\n",
        "print(area)"
      ]
    },
    {
      "cell_type": "code",
      "source": [
        "# 문제2\n",
        "# 분(정수)을 시간과 분으로 변환하여 출력하시오.\n",
        "\n",
        "sum_min = 100\n",
        "hours = sum_min//60\n",
        "minutes = sum_min%60\n",
        "\n",
        "print(sum_min, '분은 ', hours, '시간 ', minutes, '분 입니다.')"
      ],
      "metadata": {
        "colab": {
          "base_uri": "https://localhost:8080/"
        },
        "id": "Cf_NJYOTduZt",
        "outputId": "a7a64d9b-a239-4734-f8cc-191fc9f80f8e"
      },
      "execution_count": 2,
      "outputs": [
        {
          "output_type": "stream",
          "name": "stdout",
          "text": [
            "100 분은  1 시간  40 분 입니다.\n"
          ]
        }
      ]
    },
    {
      "cell_type": "code",
      "source": [],
      "metadata": {
        "id": "B9X1bY_TfgUM"
      },
      "execution_count": null,
      "outputs": []
    }
  ]
}