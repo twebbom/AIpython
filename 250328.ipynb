{
  "nbformat": 4,
  "nbformat_minor": 0,
  "metadata": {
    "colab": {
      "provenance": []
    },
    "kernelspec": {
      "name": "python3",
      "display_name": "Python 3"
    },
    "language_info": {
      "name": "python"
    }
  },
  "cells": [
    {
      "cell_type": "markdown",
      "source": [
        "# **실습문제(조건문)**\n"
      ],
      "metadata": {
        "id": "chYsoK-RStsU"
      }
    },
    {
      "cell_type": "markdown",
      "source": [
        "## 문제 1 : 두 수 비교하기\n",
        "\n",
        "* 사용자로부터 두 개의 정수를 입력받습니다.\n",
        "* 두 수를 비교하여 어떤 수가 더 큰지, 또는 같은지 판별해야 합니다.\n",
        "* 첫 번째 수가 두 번재 수보다 큰 경우를 `if` 문으로 확인합니다.\n",
        "* 첫 번재 수가 두 번째 수보다 작은 경우를 `elif`문으로 확인합니다.\n",
        "* 위의 두 조건이 모두 거짓인 경우 `else` 문으로 두 수가 같음을 처리합니다.\n",
        "* 비교 결과를 출력합니다."
      ],
      "metadata": {
        "id": "ZcRr31fAs0ZB"
      }
    },
    {
      "cell_type": "code",
      "source": [
        "num1 = int(input(\"첫 번째 정수를 입력하세요: \"))\n",
        "num2 = int(input(\"두 번째 정수를 입력하세요: \"))\n",
        "\n",
        "if num1 > num2:\n",
        "  print(f\"{num1}은(는) {num2}보다 큽니다.\")\n",
        "elif num1 < num2:\n",
        "  print(f\"{num1}은(는) {num2}보다 작습니다.\")\n",
        "else:\n",
        "  print(f\"{num1}과(와) {num2}은(는) 같습니다.\")\n"
      ],
      "metadata": {
        "colab": {
          "base_uri": "https://localhost:8080/"
        },
        "id": "_xCO8noETWAN",
        "outputId": "b262f0bb-a141-4c94-e495-d0bfea8a91a7"
      },
      "execution_count": 28,
      "outputs": [
        {
          "output_type": "stream",
          "name": "stdout",
          "text": [
            "첫 번째 정수를 입력하세요: 1\n",
            "두 번째 정수를 입력하세요: 2\n",
            "1은(는) 2보다 작습니다.\n"
          ]
        }
      ]
    },
    {
      "cell_type": "markdown",
      "source": [
        "파이썬의 예외 처리\n",
        "\n",
        "* `try` 블록 : 예외가 발생할 가능서이 있는 코드를 포함\n",
        "* `execpt` 블록: try 블록에서 특정 예외가 발생하면 실행됨. 예외 유형을 지정하여 특정 예외 처리 가능\n",
        "* `finally` 블록: 예외 발생 여부와 관계없이 항상 실행.\n",
        "\n",
        "-> 코드의 가독성을 향상\n"
      ],
      "metadata": {
        "id": "i5AjPtTxULZ8"
      }
    },
    {
      "cell_type": "markdown",
      "source": [
        "---"
      ],
      "metadata": {
        "id": "8p7RtrokW3-F"
      }
    },
    {
      "cell_type": "markdown",
      "source": [
        "## 문제 2: 세 수 중 가장 큰 수 찾기\n",
        "\n",
        "* 사용자로부터 세 개의 정수를 입력받습니다. 각각 `num1`, `num2`, `num3` 변수에 저장합니다.\n",
        "* 가장 큰 수를 저장할 변수 `max_num`을 초기화합니다. 처음에는 첫 번째 수를 가장 큰 수라고 가정합니다.\n",
        "* `if`문을 사용하여 `num2`가 현재 `max_num`보다 큰 지 비교합니다. 만약 크다면 `maw_num`을 `num2`로 업데이트합니다.\n",
        "* 다시 `if`문을 사용하여 `num3`가 현재 `max_num`보다 큰지 비교합니다. 만약 크다면 `max_num`을 `num`로 업데이트합니다.\n",
        "* 모든 비교가 끝나면 `max_num` 변수에 세 수 중 가장 큰 수가 저장됩니다.\n",
        "* 최종적으로 `max_num` 갑을 출력하여 결과를 사용자에게 보여줍니다.\n",
        "* 입력 과정에서 발생할 수 있는 `ValueError`를 처리하여 사용자가 유효한 정수를 입력하도록 안내합니다."
      ],
      "metadata": {
        "id": "ensjPxkBT6Qc"
      }
    },
    {
      "cell_type": "code",
      "source": [
        "num1 = int(input(\"첫 번째 정수를 입력하세요: \"))\n",
        "num2 = int(input(\"두 번째 정수를 입력하세요: \"))\n",
        "num3 = int(input(\"세 번째 정수를 입력하세요: \"))\n",
        "\n",
        "max_num = num1 # 처음에는 num1이 가장 크다고 가정\n",
        "\n",
        "if num2 > max_num:\n",
        "  print(f\"두 번째 수 {num2}가 현재 최대값 {max_num}보다 큽니다. 최대값을 업데이트합니다.\")\n",
        "  max_num = num2\n",
        "else:\n",
        "  print(f\"두 번째 수 {num2}는 현재 최대값 {max_num}보다 크지 않습니다.\")\n",
        "if num3 > max_num:\n",
        "  print(f\"세 번째 수 {num3}가 현재 최대값 {max_num}보다 큽니다. 최대값을 업데이트합니다.\")\n",
        "  max_num = num3\n",
        "else:\n",
        "  print(f\"세 번째 수 {num3}는 현재 최대값 {max_num}보다 크지 않습니다.\")\n",
        "\n",
        "print(f\"\\n입력하신 세 수 {num1}, {num2}, {num3} 중에서 가장 큰 수는 {max_num}입니다.\")"
      ],
      "metadata": {
        "colab": {
          "base_uri": "https://localhost:8080/"
        },
        "id": "bXv2AvyxTyyl",
        "outputId": "5c94d6f9-da81-46ee-e5b2-8e654142011c"
      },
      "execution_count": 29,
      "outputs": [
        {
          "output_type": "stream",
          "name": "stdout",
          "text": [
            "첫 번째 정수를 입력하세요: 1\n",
            "두 번째 정수를 입력하세요: 2\n",
            "세 번째 정수를 입력하세요: 3\n",
            "두 번째 수 2가 현재 최대값 1보다 큽니다. 최대값을 업데이트합니다.\n",
            "세 번째 수 3가 현재 최대값 2보다 큽니다. 최대값을 업데이트합니다.\n",
            "\n",
            "입력하신 세 수 1, 2, 3 중에서 가장 큰 수는 3입니다.\n"
          ]
        }
      ]
    },
    {
      "cell_type": "markdown",
      "source": [
        "---"
      ],
      "metadata": {
        "id": "619UmHJvXde-"
      }
    },
    {
      "cell_type": "markdown",
      "source": [
        "## 문제 3: 학점 판별하기\n",
        "\n",
        "* 사용자로부터 시험 점수 (0부터 100 사이의 정수)를 입력받습니다.\n",
        "* 입력받은 점수에 따라 학점을 판별해야 합니다.\n",
        "* 90점 이상이면 'A' 학점입니다.\n",
        "* 80점 이상 90점 미만이면 'B' 학점입니다.\n",
        "* 70점 이상 80점 미만이면 'C' 학점입니다.\n",
        "* 60점 이상 70점 미만이면 'D' 학점입니다.\n",
        "* 60점 미만이면 'F' 학점입니다.\n",
        "* `if`, `elif`, `else`, 문을 사용하여 점수 범위에 따라 학점을 결정하고 출력합니다.\n",
        "* 입력 유효성 검사 (0~100 사이의 정수)를 추가합니다."
      ],
      "metadata": {
        "id": "NhzxCA9gXezt"
      }
    },
    {
      "cell_type": "code",
      "source": [
        "score = float(input('시험 점수(0~100)을 입력하세요: '))\n",
        "if score >= 90:\n",
        "  grade = 'A'\n",
        "elif score >= 80:\n",
        "  grade = 'B'\n",
        "elif score >= 70:\n",
        "  grade = 'C'\n",
        "elif score >= 60:\n",
        "  grade = 'D'\n",
        "else:\n",
        "  grade = 'F'\n",
        "print('당신의 학점은 ', grade, '입니다.')"
      ],
      "metadata": {
        "colab": {
          "base_uri": "https://localhost:8080/"
        },
        "id": "MmLLasXWWXxO",
        "outputId": "2bf1d861-1ca4-4b70-e526-1649e85e9b3b"
      },
      "execution_count": 30,
      "outputs": [
        {
          "output_type": "stream",
          "name": "stdout",
          "text": [
            "시험 점수(0~100)을 입력하세요: 45.6\n",
            "당신의 학점은  F 입니다.\n"
          ]
        }
      ]
    },
    {
      "cell_type": "markdown",
      "source": [
        "---"
      ],
      "metadata": {
        "id": "Ypw4As-vZONN"
      }
    },
    {
      "cell_type": "markdown",
      "source": [
        "## 문제 4: 윤년 판별하기\n",
        "\n",
        "* 사용자로부터 연도를 입력받습니다.\n",
        "* 입력받은 연도가 윤년인지 아닌지 판별해야 합니다.\n",
        "* 윤년의 조건은 다음과 같습니다.\n",
        "* 4로 나누어 떨어지면서 100으로 나누어 떨어지지 않거나,\n",
        "* 400으로 나누어 떨어지는 해는 윤년입니다.\n",
        "* `if`문과 논리 연산자 (`and`, `or`, `not`)를 사용하여 윤년 조건을 확인합니다.\n",
        "* 조건에 따라 윤년인지 아닌지 출력합니다."
      ],
      "metadata": {
        "id": "_hvHWrg1ZPD1"
      }
    },
    {
      "cell_type": "code",
      "source": [
        "year = int(input('연도를 입력하세요: '))\n",
        "if (year%4==0 and year%100!=0) or year%400==0:\n",
        "  print(year, '년은 윤년입니다.')\n",
        "else:\n",
        "  print('윤년이 아닙니다.')"
      ],
      "metadata": {
        "id": "zYs0THjUZEyf",
        "colab": {
          "base_uri": "https://localhost:8080/"
        },
        "outputId": "9ce769a7-efcb-4e20-e3c7-94d4a9276815"
      },
      "execution_count": 31,
      "outputs": [
        {
          "output_type": "stream",
          "name": "stdout",
          "text": [
            "연도를 입력하세요: 2025\n",
            "윤년이 아닙니다.\n"
          ]
        }
      ]
    },
    {
      "cell_type": "markdown",
      "source": [
        "---"
      ],
      "metadata": {
        "id": "rwSN66s1h7Nn"
      }
    },
    {
      "cell_type": "markdown",
      "source": [
        "# **5. 반복문(`for`, `while`)**\n",
        "\n",
        "반복문은 같은 일을 반복할 때 사용합니다."
      ],
      "metadata": {
        "id": "Y-QiLZE8mCCf"
      }
    },
    {
      "cell_type": "code",
      "source": [
        "#for문 (횟수가 정해졌을 때)\n",
        "for i in range(5):\n",
        "  print(i)"
      ],
      "metadata": {
        "colab": {
          "base_uri": "https://localhost:8080/"
        },
        "id": "ZHrTwYtklb0H",
        "outputId": "c67a93cc-97c2-4794-a837-2ce3c7cc52d6"
      },
      "execution_count": 15,
      "outputs": [
        {
          "output_type": "stream",
          "name": "stdout",
          "text": [
            "0\n",
            "1\n",
            "2\n",
            "3\n",
            "4\n"
          ]
        }
      ]
    },
    {
      "cell_type": "code",
      "source": [
        "for i in range(5):\n",
        "  print(i+1)"
      ],
      "metadata": {
        "colab": {
          "base_uri": "https://localhost:8080/"
        },
        "id": "DHSU0M0FlmIA",
        "outputId": "93c0f5bd-f13d-4adc-f8cc-57e25926cc87"
      },
      "execution_count": 16,
      "outputs": [
        {
          "output_type": "stream",
          "name": "stdout",
          "text": [
            "1\n",
            "2\n",
            "3\n",
            "4\n",
            "5\n"
          ]
        }
      ]
    },
    {
      "cell_type": "code",
      "source": [
        "#리스트\n",
        "#int, float, str 모두 사용 가능\n",
        "for i in [1,2,3,4,5]:\n",
        "  print('반복', i)"
      ],
      "metadata": {
        "colab": {
          "base_uri": "https://localhost:8080/"
        },
        "id": "9DxhYWpCnAsP",
        "outputId": "fa3b5c0b-da65-41f7-f37e-ed444e2f9bae"
      },
      "execution_count": 21,
      "outputs": [
        {
          "output_type": "stream",
          "name": "stdout",
          "text": [
            "반복 1\n",
            "반복 2\n",
            "반복 3\n",
            "반복 4\n",
            "반복 5\n"
          ]
        }
      ]
    },
    {
      "cell_type": "code",
      "source": [
        "#while문 (조건이 있을 때)\n",
        "count = 0\n",
        "while count < 3:\n",
        "  print('반복 중:', count)\n",
        "  count += 1 # 하나씩 증가"
      ],
      "metadata": {
        "colab": {
          "base_uri": "https://localhost:8080/"
        },
        "id": "5zks1mnymbZo",
        "outputId": "506b6f2e-9869-42a1-9f82-5accc569a4b7"
      },
      "execution_count": 19,
      "outputs": [
        {
          "output_type": "stream",
          "name": "stdout",
          "text": [
            "반복 중: 0\n",
            "반복 중: 1\n",
            "반복 중: 2\n"
          ]
        }
      ]
    },
    {
      "cell_type": "markdown",
      "source": [
        "# **실습문제(반복문)**"
      ],
      "metadata": {
        "id": "gbL3tDkGkssH"
      }
    },
    {
      "cell_type": "markdown",
      "source": [
        "## 문제 1: 1부터 N까지의 합 계산하기\n",
        "\n",
        "* 사용자로부터 양의 정수 N을 입력받습니다.\n",
        "* 1부터 N까지의 모든 정수를 더해야 합니다.\n",
        "* 합계를 저장할 변수를 초기화합니다 (0으로 시작).\n",
        "* `for` 루프를 사용하여 1부터 N까지 순회합니다.\n",
        "* 각 숫자를 합계 변수에 더합니다.\n",
        "* 최종 합계를 출력합니다."
      ],
      "metadata": {
        "id": "ZaIkO4nrs-5h"
      }
    },
    {
      "cell_type": "code",
      "source": [
        "N = int(input('양의 정수 N을 입력하세요: '))\n",
        "total = 0\n",
        "for i in range(1,N+1):\n",
        "  total += i\n",
        "\n",
        "print(f\"1부터 {N}까지의 합은: {total}입니다.\")"
      ],
      "metadata": {
        "colab": {
          "base_uri": "https://localhost:8080/"
        },
        "id": "X6IK_X9maduu",
        "outputId": "643e5ce9-ce8d-4081-fe46-37d9f641a21a"
      },
      "execution_count": 18,
      "outputs": [
        {
          "output_type": "stream",
          "name": "stdout",
          "text": [
            "양의 정수 N을 입력하세요: 10\n",
            "1부터 10까지의 합은: 55입니다.\n"
          ]
        }
      ]
    },
    {
      "cell_type": "markdown",
      "source": [
        "---\n",
        "## 문제 4: 특정 조건까지 반복하기 (While 루프)\n",
        "\n",
        "* 초기값 0부터 시작하는 변수를 하나 설정합니다.\n",
        "* `while` 루프를 사용하여 변수가 10보다 작을 동안 반복합니다.\n",
        "* 루프 안에서 현재 변수의 값을 출력합니다.\n",
        "* 루프가 반복될 때마다 변수의 값을 1씩 증가시킵니다.\n",
        "* 변수가 10이 되면 루프가 종료됩니다."
      ],
      "metadata": {
        "id": "Cz-g5Iucr7bx"
      }
    },
    {
      "cell_type": "code",
      "source": [
        "count = 0\n",
        "print('0부터 9까지 출력: ')\n",
        "while count < 10:\n",
        "  print(count)\n",
        "  count += 1\n",
        "print('while루프 종료')"
      ],
      "metadata": {
        "colab": {
          "base_uri": "https://localhost:8080/"
        },
        "id": "PM9iTUO3oOIy",
        "outputId": "17396326-f5b0-48b7-f74f-a6b38930ff09"
      },
      "execution_count": 23,
      "outputs": [
        {
          "output_type": "stream",
          "name": "stdout",
          "text": [
            "0부터 9까지 출력: \n",
            "0\n",
            "1\n",
            "2\n",
            "3\n",
            "4\n",
            "5\n",
            "6\n",
            "7\n",
            "8\n",
            "9\n",
            "while루프 종료\n"
          ]
        }
      ]
    },
    {
      "cell_type": "code",
      "source": [
        "print('0부터 9까지 출력: ')\n",
        "for i in range(10):\n",
        "  print(i)\n",
        "print('for루프 종료')"
      ],
      "metadata": {
        "colab": {
          "base_uri": "https://localhost:8080/"
        },
        "id": "NMeB7IRRsfQj",
        "outputId": "263cc345-039f-4bcc-97df-adcf576bf744"
      },
      "execution_count": 25,
      "outputs": [
        {
          "output_type": "stream",
          "name": "stdout",
          "text": [
            "0부터 9까지 출력: \n",
            "0\n",
            "1\n",
            "2\n",
            "3\n",
            "4\n",
            "5\n",
            "6\n",
            "7\n",
            "8\n",
            "9\n",
            "for루프 종료\n"
          ]
        }
      ]
    },
    {
      "cell_type": "code",
      "source": [],
      "metadata": {
        "id": "rTO1XXc-spI6"
      },
      "execution_count": null,
      "outputs": []
    }
  ]
}