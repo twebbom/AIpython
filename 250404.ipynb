{
 "cells": [
  {
   "cell_type": "markdown",
   "id": "4e2e1ccd-8e7d-4a11-9850-69ebb597bbcb",
   "metadata": {},
   "source": [
    "### [플러스 예제] 온도 변환기\n",
    "\n",
    "화씨온도 = 섭씨온도*9/5+32"
   ]
  },
  {
   "cell_type": "code",
   "execution_count": 4,
   "id": "9afd515a-dbcc-467b-aaf6-49482965ee79",
   "metadata": {},
   "outputs": [
    {
     "name": "stdin",
     "output_type": "stream",
     "text": [
      "섭씨 온도:  25\n"
     ]
    },
    {
     "name": "stdout",
     "output_type": "stream",
     "text": [
      "화씨 온도:  77.0\n"
     ]
    }
   ],
   "source": [
    "# 섭씨 -> 화씨 변환\n",
    "celsius = int(input('섭씨 온도: '))\n",
    "fahreneit = celsius*9/5+32\n",
    "print('화씨 온도: ', fahreneit)"
   ]
  },
  {
   "cell_type": "code",
   "execution_count": 3,
   "id": "1cef4ff1-9e9b-4b17-be14-e2aedd9350f3",
   "metadata": {},
   "outputs": [
    {
     "name": "stdin",
     "output_type": "stream",
     "text": [
      "화씨 온도:  77\n"
     ]
    },
    {
     "name": "stdout",
     "output_type": "stream",
     "text": [
      "섭씨 온도:  25.0\n"
     ]
    }
   ],
   "source": [
    "# 화씨 -> 섭씨 변환\n",
    "fah = int(input('화씨 온도: '))\n",
    "cel = (fah-32)*5/9\n",
    "print('섭씨 온도: ', cel)"
   ]
  },
  {
   "cell_type": "code",
   "execution_count": 13,
   "id": "0405abbc-9d46-46ee-b839-ccac1801f83e",
   "metadata": {},
   "outputs": [
    {
     "name": "stdin",
     "output_type": "stream",
     "text": [
      "온도 종류(섭씨 또는 화씨):  섭씨\n",
      "섭씨 온도: 25\n"
     ]
    },
    {
     "name": "stdout",
     "output_type": "stream",
     "text": [
      "화씨 온도: 77.00\n"
     ]
    }
   ],
   "source": [
    "# 온도 종류\n",
    "kind = input('온도 종류(섭씨 또는 화씨): ')\n",
    "temp = int(input(kind+' 온도:'))\n",
    "if kind == '섭씨':\n",
    "    deg = temp*9/5+32\n",
    "    print(\"화씨 온도: %.2f\" % deg)\n",
    "else:\n",
    "    deg = (temp-32)*5/9\n",
    "    print('섭씨 온도: %.2f' % deg)"
   ]
  },
  {
   "cell_type": "markdown",
   "id": "6efa7f01-a5bc-4c3e-a3a3-726282ecee3b",
   "metadata": {},
   "source": [
    "---\n",
    "### [플러스 예제] 숫자 맞히기 게임"
   ]
  },
  {
   "cell_type": "code",
   "execution_count": 47,
   "id": "5da560d1-d164-4610-88e5-0ec3df363ae3",
   "metadata": {},
   "outputs": [
    {
     "name": "stdin",
     "output_type": "stream",
     "text": [
      "1~100 숫자 입력:  50\n"
     ]
    },
    {
     "name": "stdout",
     "output_type": "stream",
     "text": [
      "50 보다 큽니다.\n"
     ]
    },
    {
     "name": "stdin",
     "output_type": "stream",
     "text": [
      "1~100 숫자 입력:  75\n"
     ]
    },
    {
     "name": "stdout",
     "output_type": "stream",
     "text": [
      "75 보다 큽니다.\n"
     ]
    },
    {
     "name": "stdin",
     "output_type": "stream",
     "text": [
      "1~100 숫자 입력:  87\n"
     ]
    },
    {
     "name": "stdout",
     "output_type": "stream",
     "text": [
      "87 보다 작습니다.\n"
     ]
    },
    {
     "name": "stdin",
     "output_type": "stream",
     "text": [
      "1~100 숫자 입력:  80\n"
     ]
    },
    {
     "name": "stdout",
     "output_type": "stream",
     "text": [
      "80 보다 큽니다.\n"
     ]
    },
    {
     "name": "stdin",
     "output_type": "stream",
     "text": [
      "1~100 숫자 입력:  83\n"
     ]
    },
    {
     "name": "stdout",
     "output_type": "stream",
     "text": [
      "83 보다 큽니다.\n"
     ]
    },
    {
     "name": "stdin",
     "output_type": "stream",
     "text": [
      "1~100 숫자 입력:  85\n"
     ]
    },
    {
     "name": "stdout",
     "output_type": "stream",
     "text": [
      "85 보다 큽니다.\n"
     ]
    },
    {
     "name": "stdin",
     "output_type": "stream",
     "text": [
      "1~100 숫자 입력:  86\n"
     ]
    },
    {
     "name": "stdout",
     "output_type": "stream",
     "text": [
      "정답입니다. 7 만에 맞췄습니다.\n"
     ]
    }
   ],
   "source": [
    "import random\n",
    "answer = random.randint(1, 100)\n",
    "count = 0\n",
    "while True:\n",
    "    user = int(input('1~100 숫자 입력: '))\n",
    "    count += 1\n",
    "    if user == answer:\n",
    "        break\n",
    "    elif user < answer:\n",
    "        print(user, '보다 큽니다.')\n",
    "    else:\n",
    "        print(user, '보다 작습니다.')\n",
    "\n",
    "print('정답입니다.', count, '만에 맞췄습니다.')"
   ]
  },
  {
   "cell_type": "code",
   "execution_count": 19,
   "id": "83007720-b7b6-4448-984d-9132f42057b9",
   "metadata": {},
   "outputs": [
    {
     "name": "stdin",
     "output_type": "stream",
     "text": [
      "50인가요? OK/DOWN/UP DOWN\n",
      "26인가요? OK/DOWN/UP UP\n",
      "39인가요? OK/DOWN/UP DOWN\n",
      "33인가요? OK/DOWN/UP DOWN\n",
      "30인가요? OK/DOWN/UP OK\n"
     ]
    },
    {
     "name": "stdout",
     "output_type": "stream",
     "text": [
      "5회 만에 맞췄습니다.\n"
     ]
    }
   ],
   "source": [
    "low = 1\n",
    "high = 100\n",
    "count = 0\n",
    "\n",
    "while True:\n",
    "    num = (low+high)//2\n",
    "    answer = input(f'{num}인가요? OK/DOWN/UP')\n",
    "    count += 1\n",
    "    if answer == 'OK':\n",
    "        break\n",
    "    elif answer == 'DOWN':\n",
    "        high = num+1\n",
    "    elif answer == 'UP':\n",
    "        low = num+1\n",
    "    else:\n",
    "        print('잘못 입력했습니다.')\n",
    "\n",
    "print(f'{count}회 만에 맞췄습니다.')"
   ]
  },
  {
   "cell_type": "markdown",
   "id": "8ab36ec5-00f6-497f-8045-9d616f32c8f2",
   "metadata": {},
   "source": [
    "---\n",
    "### 리스트"
   ]
  },
  {
   "cell_type": "code",
   "execution_count": 34,
   "id": "491611d4-d7d4-4798-a522-40009e3f590e",
   "metadata": {},
   "outputs": [
    {
     "data": {
      "text/plain": [
       "[26, 23, 33, 37, 30, 33]"
      ]
     },
     "execution_count": 34,
     "metadata": {},
     "output_type": "execute_result"
    }
   ],
   "source": [
    "lotto = []\n",
    "for i in range(6):\n",
    "    num = random.randint(1, 45)\n",
    "    lotto.append(num)\n",
    "\n",
    "lotto"
   ]
  },
  {
   "cell_type": "markdown",
   "id": "08e4add3-7c35-4aa1-ad37-2aa447516465",
   "metadata": {},
   "source": [
    "function\n",
    "* 독립적인 코드 블록\n",
    "* 호출 방법: 함수 이름 뒤에 괄호를 사용하여 호출\n",
    "\n",
    "method\n",
    "* 객체에 소속된 함수\n",
    "* 호출 방법: 객체 이름 뒤에 `.`을 찍고 이름과 괄호를 이용하여 사용"
   ]
  },
  {
   "cell_type": "code",
   "execution_count": 59,
   "id": "78637ee3-f2b5-4d4f-9390-3eed6c02e442",
   "metadata": {},
   "outputs": [],
   "source": [
    "성적 = [85, 92, 78, 90, 87]\n",
    "평균 = sum(성적) / len(성적)"
   ]
  },
  {
   "cell_type": "code",
   "execution_count": 54,
   "id": "0f7c35e4-145e-4f53-b44c-7d7e439c3796",
   "metadata": {},
   "outputs": [
    {
     "name": "stdout",
     "output_type": "stream",
     "text": [
      "432 86.4\n"
     ]
    }
   ],
   "source": [
    "score = [85, 92, 78, 90, 87]\n",
    "total = 0\n",
    "mean = 0.0\n",
    "count = 0\n",
    "for num in score:\n",
    "    total += num\n",
    "    count += 1\n",
    "\n",
    "mean = total / count\n",
    "print(total, mean)"
   ]
  },
  {
   "cell_type": "code",
   "execution_count": 58,
   "id": "30f0dc02-15cd-44c7-9ebc-c6d4e97544c6",
   "metadata": {},
   "outputs": [
    {
     "name": "stdout",
     "output_type": "stream",
     "text": [
      "['철수', '영희', '지영']\n"
     ]
    }
   ],
   "source": [
    "학생들 = [(\"철수\", 85), (\"영희\", 92), (\"민수\", 65), (\"지영\", 78)]\n",
    "합격자 = []\n",
    "\n",
    "for 학생, 점수 in 학생들:\n",
    "    if 점수 >= 70:\n",
    "        합격자.append(학생)\n",
    "\n",
    "print(합격자)"
   ]
  },
  {
   "cell_type": "code",
   "execution_count": 57,
   "id": "7f1b397d-1260-4233-a6b9-2686e023fbc3",
   "metadata": {},
   "outputs": [
    {
     "data": {
      "text/plain": [
       "[1, 2, 3, 4, 5]"
      ]
     },
     "execution_count": 57,
     "metadata": {},
     "output_type": "execute_result"
    }
   ],
   "source": [
    "숫자들 = [1, 2, 2, 3, 4, 4, 5, 5, 5]\n",
    "중복제거 = list(set(숫자들)) \n",
    "중복제거"
   ]
  },
  {
   "cell_type": "markdown",
   "id": "77f176f0-532a-47ad-849c-93af60c4bbfc",
   "metadata": {},
   "source": [
    "---\n",
    "### 실습문제 (리스트)"
   ]
  },
  {
   "cell_type": "markdown",
   "id": "9dc51438-f2fb-4fd1-9659-0c71f67b328a",
   "metadata": {},
   "source": [
    "##### 문제 1: 리스트 생성 및 요소 접근\n",
    "\n",
    "* 과일 이름을 담는 리스트 `fruits`를 생성하고, 최소 3가지 이상의 과일을 초기 값으로 할당합니다.\n",
    "* 리스트의 첫 번째 요소와 마지막 요소를 각각 인덱스를 사용하여 접근합니다.\n",
    "* 접근한 각 요소를 `print()` 함수를 사용하여 출력합니다."
   ]
  },
  {
   "cell_type": "code",
   "execution_count": 28,
   "id": "4669f6d6-b927-4a69-afa3-b999f3261f8e",
   "metadata": {},
   "outputs": [
    {
     "name": "stdout",
     "output_type": "stream",
     "text": [
      "과일 리스트: ['사과', '바나나', '딸기', '포도']\n",
      "첫 번째 과일: 사과\n",
      "마지막 과일: 포도\n"
     ]
    }
   ],
   "source": [
    "# 문제1: 리스트 생성 및 요소 접근 \n",
    "fruits = ['사과', '바나나', '딸기', '포도']\n",
    "print(f\"과일 리스트: {fruits}\")\n",
    "\n",
    "first_fruit = fruits[0] # 첫 번째 요소 (인덱스 0)에 접근\n",
    "print(f\"첫 번째 과일: {first_fruit}\")\n",
    "\n",
    "last_fruit = fruits[-1] # 마지막 요소 (인덱스 -1)에 접근\n",
    "print(f\"마지막 과일: {last_fruit}\")"
   ]
  },
  {
   "cell_type": "markdown",
   "id": "4b20c532-1b54-4847-84ad-404592585bd8",
   "metadata": {},
   "source": [
    "##### 문제 2: 리스트 요소 추가 및 삭제\n",
    "\n",
    "* 문제 1에서 생성한 `fruits` 리스트에 새로운 과일 \"오렌지\"를 추가합니다. 리스트의 끝에 추가해야 하므로 `append()` 메서드를 사용합니다.\n",
    "* 추가된 후의 리스트를 출력합니다.\n",
    "* 리스트에서 \"바나나\"를 삭제합니다. `remove()` 메서드를 사용하여 특정 값을 삭제합니다.\n",
    "* 삭제된 후의 리스트를 출력합니다."
   ]
  },
  {
   "cell_type": "code",
   "execution_count": 30,
   "id": "2f2d1946-c8ac-4472-abab-84a9aa97c699",
   "metadata": {},
   "outputs": [
    {
     "name": "stdout",
     "output_type": "stream",
     "text": [
      "원래 과일 리스트: ['사과', '바나나', '딸기', '포도']\n",
      "요소 추가 후 리스트: ['사과', '바나나', '딸기', '포도', '오렌지']\n",
      "요소 삭제 후 리스트: ['사과', '딸기', '포도', '오렌지']\n"
     ]
    }
   ],
   "source": [
    "# 문제2: 리스트 요소 추가 및 삭제\n",
    "fruits = ['사과', '바나나', '딸기', '포도']\n",
    "print(f'원래 과일 리스트: {fruits}')\n",
    "\n",
    "fruits.append('오렌지') # 리스트 끝에 '오렌지' 추가\n",
    "print(f'요소 추가 후 리스트: {fruits}')\n",
    "\n",
    "fruits.remove('바나나') # 리스트에서 '바나나' 삭제\n",
    "print(f'요소 삭제 후 리스트: {fruits}')"
   ]
  },
  {
   "cell_type": "markdown",
   "id": "52aa0cf9-9f2a-48b4-ba81-8de00b31239b",
   "metadata": {},
   "source": [
    "##### 문제 3: 리스트 요소 순회하며 출력\n",
    "\n",
    "* 숫자를 담는 리스트 `numbers`를 생성하고, 몇 개의 숫자를 초기 값으로 할당합니다.\n",
    "* for 루프를 사용하여 리스트의 각 요소를 순회합니다.\n",
    "* 각 요소를 print() 함수를 사용하여 한 줄씩 출력합니다."
   ]
  },
  {
   "cell_type": "code",
   "execution_count": 31,
   "id": "ece69e6f-0bc6-4c7b-b841-5897bbda4423",
   "metadata": {},
   "outputs": [
    {
     "name": "stdout",
     "output_type": "stream",
     "text": [
      "숫자 리스트의 요소: \n",
      "1\n",
      "5\n",
      "12\n",
      "8\n",
      "21\n"
     ]
    }
   ],
   "source": [
    "# 문제3: 리스트 요소 순회하며 출력\n",
    "numbers = [1, 5, 12, 8, 21]\n",
    "print('숫자 리스트의 요소: ')\n",
    "for num in numbers:\n",
    "    print(num)"
   ]
  },
  {
   "cell_type": "markdown",
   "id": "048165cc-d46a-4ef7-80ed-ab2d25897e00",
   "metadata": {},
   "source": [
    "##### 문제 4: 리스트 요소 값 변경\n",
    "\n",
    "* 색깔 이름을 담는 리스트 colors 를 생성하고, 몇 가지 색깔을 초기 값으로 할당합니다.\n",
    "* 리스트의 특정 인덱스 (예: 인덱스 1)에 있는 요소의 값을 새로운 색깔로 변경합니다.\n",
    "* 변경 전과 변경 후의 리스트를 각각 출력하여 결과를 확인합니다"
   ]
  },
  {
   "cell_type": "code",
   "execution_count": 32,
   "id": "33997481-e34e-4421-9cb5-419afedb9d39",
   "metadata": {},
   "outputs": [
    {
     "name": "stdout",
     "output_type": "stream",
     "text": [
      "원래 색깔 리스트: ['빨강', '초록', '파랑']\n",
      "요소 변경 후 색깔 리스트: ['빨강', '노랑', '파랑']\n"
     ]
    }
   ],
   "source": [
    "# 문제4: 리스트 요소 값 변경\n",
    "colors = [\"빨강\", \"초록\", \"파랑\"]\n",
    "print(f\"원래 색깔 리스트: {colors}\")\n",
    "\n",
    "colors[1] = \"노랑\" # 인덱스 1의 \"초록\"을 \"노랑\"으로 변경\n",
    "print(f\"요소 변경 후 색깔 리스트: {colors}\")"
   ]
  },
  {
   "cell_type": "markdown",
   "id": "2dce63bc-b5df-4322-ad46-296c82dbbec6",
   "metadata": {},
   "source": [
    "##### 문제 5: 두 개의 리스트 합치기\n",
    "* 첫 번째 숫자 리스트 list1 을 생성하고 몇 개의 숫자를 초기 값으로 할당합니다.\n",
    "* 두 번째 숫자 리스트 list2 를 생성하고 몇 개의 숫자를 초기 값으로 할당합니다.\n",
    "* `+` 연산자를 사용하여 list1 과 list2 를 합쳐 새로운 리스트 combined_list 를 생성합니다.\n",
    "* `extend()` 메서드를 사용하여 list1 에 list2 의 모든 요소를 추가합니다. (두 가지 방법 모두 보여줍니다.)\n",
    "* 합쳐진 리스트를 출력합니다."
   ]
  },
  {
   "cell_type": "code",
   "execution_count": 61,
   "id": "f75fa49f-90f4-4c2a-9254-8b89f2bd88d7",
   "metadata": {},
   "outputs": [
    {
     "name": "stdout",
     "output_type": "stream",
     "text": [
      "첫 번째 리스트: [1, 2, 3]\n",
      "두 번째 리스트: [4, 5, 6]\n",
      "두 리스트 합치기 (+) 결과: [1, 2, 3, 4, 5, 6]\n",
      "첫 번째 리스트에 두 번째 리스트 확장 (extend()): [1, 2, 3, 4, 5, 6]\n"
     ]
    }
   ],
   "source": [
    "# 문제5: 두 개의 리스트 합치기\n",
    "list1 = [1, 2, 3]\n",
    "list2 = [4, 5, 6]\n",
    "print(f'첫 번째 리스트: {list1}')\n",
    "print(f'두 번째 리스트: {list2}')\n",
    "\n",
    "# 방법1: + 연산자 사용\n",
    "combined_list_plus = list1 + list2\n",
    "print(f'두 리스트 합치기 (+) 결과: {combined_list_plus}')\n",
    "\n",
    "# 방법 2: extend() 메서드 사용\n",
    "list1.extend(list2)\n",
    "print(f'첫 번째 리스트에 두 번째 리스트 확장 (extend()): {list1}')"
   ]
  },
  {
   "cell_type": "code",
   "execution_count": null,
   "id": "529c494d-3b6f-4a07-bdbc-63f3a04e286b",
   "metadata": {},
   "outputs": [],
   "source": []
  }
 ],
 "metadata": {
  "kernelspec": {
   "display_name": "Python 3 (ipykernel)",
   "language": "python",
   "name": "python3"
  },
  "language_info": {
   "codemirror_mode": {
    "name": "ipython",
    "version": 3
   },
   "file_extension": ".py",
   "mimetype": "text/x-python",
   "name": "python",
   "nbconvert_exporter": "python",
   "pygments_lexer": "ipython3",
   "version": "3.12.6"
  }
 },
 "nbformat": 4,
 "nbformat_minor": 5
}
