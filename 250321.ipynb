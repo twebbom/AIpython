{
 "cells": [
  {
   "cell_type": "markdown",
   "id": "8b41b625-167b-40a3-b801-cabfb7e0471a",
   "metadata": {},
   "source": [
    "### 3. 입력과 출력  (`input`, `print`)"
   ]
  },
  {
   "cell_type": "code",
   "execution_count": 4,
   "id": "718936ad-8554-4254-9964-9a0951598bfc",
   "metadata": {},
   "outputs": [
    {
     "name": "stdin",
     "output_type": "stream",
     "text": [
      "나이를 입력하세요:  23\n"
     ]
    },
    {
     "name": "stdout",
     "output_type": "stream",
     "text": [
      "당신은 내년에  24 살입니다.\n"
     ]
    }
   ],
   "source": [
    "age = input(\"나이를 입력하세요: \")\n",
    "age = int(age)\n",
    "print(\"당신은 내년에 \", age+1, \"살입니다.\")"
   ]
  },
  {
   "cell_type": "code",
   "execution_count": 2,
   "id": "6be96926-1ff0-4779-a0ec-9c5ca0ca35bc",
   "metadata": {},
   "outputs": [
    {
     "name": "stdin",
     "output_type": "stream",
     "text": [
      "나이를 입력하세요:  23\n"
     ]
    },
    {
     "name": "stdout",
     "output_type": "stream",
     "text": [
      "당신은 내년에  24 살입니다.\n"
     ]
    }
   ],
   "source": [
    "age = input(\"나이를 입력하세요: \")\n",
    "age = int(age)\n",
    "age = age+1\n",
    "print(\"당신은 내년에 \", age, \"살입니다.\")"
   ]
  },
  {
   "cell_type": "code",
   "execution_count": 5,
   "id": "78a7c01a-825d-400f-8545-b2b9d2f50d3b",
   "metadata": {},
   "outputs": [
    {
     "name": "stdin",
     "output_type": "stream",
     "text": [
      "나이를입력 23\n"
     ]
    },
    {
     "name": "stdout",
     "output_type": "stream",
     "text": [
      "23살입니다.\n"
     ]
    }
   ],
   "source": [
    "age=int(input(\"나이를입력\"))\n",
    "print(str(age) + \"살입니다.\")"
   ]
  },
  {
   "cell_type": "markdown",
   "id": "62ef4472-b083-4111-b20e-91279c7df12b",
   "metadata": {},
   "source": [
    "---"
   ]
  },
  {
   "cell_type": "markdown",
   "id": "3fd41469-fa9b-4e96-8e77-095a48707b84",
   "metadata": {},
   "source": [
    "### 4. 조건문 (`if`, `elif`, `else`)"
   ]
  },
  {
   "cell_type": "code",
   "execution_count": 6,
   "id": "1f4d585e-abb7-46dd-8625-bfefed504d14",
   "metadata": {},
   "outputs": [
    {
     "name": "stdout",
     "output_type": "stream",
     "text": [
      "좋아요, 합격입니다~\n"
     ]
    }
   ],
   "source": [
    "score = 78\n",
    "\n",
    "if score>=90:\n",
    "    print('정말 잘했어요!')\n",
    "elif score >= 60:\n",
    "    print('좋아요, 합격입니다~')\n",
    "else:\n",
    "    print('다음에 더 잘해봐요!')"
   ]
  },
  {
   "cell_type": "code",
   "execution_count": 15,
   "id": "b4f50a1f-8929-40aa-a452-58418944207b",
   "metadata": {},
   "outputs": [
    {
     "name": "stdin",
     "output_type": "stream",
     "text": [
      "수를 입력하세요 -5\n"
     ]
    },
    {
     "name": "stdout",
     "output_type": "stream",
     "text": [
      "음수입니다.\n"
     ]
    }
   ],
   "source": [
    "num = float(input('수를 입력하세요'))\n",
    "if num>0:\n",
    "    print('양수입니다.')\n",
    "elif num<0:\n",
    "    print('음수입니다.')\n",
    "else:\n",
    "    print('0 입니다.')"
   ]
  },
  {
   "cell_type": "code",
   "execution_count": 30,
   "id": "71723430-1124-498b-9049-af540b3b27d1",
   "metadata": {},
   "outputs": [
    {
     "name": "stdin",
     "output_type": "stream",
     "text": [
      "양수를 입력하세요 23\n"
     ]
    },
    {
     "name": "stdout",
     "output_type": "stream",
     "text": [
      "홀수입니다.\n"
     ]
    }
   ],
   "source": [
    "n = int(input('양수를 입력하세요'))\n",
    "if n%2==0:\n",
    "    print('짝수입니다.')\n",
    "else:\n",
    "    print('홀수입니다.')"
   ]
  },
  {
   "cell_type": "markdown",
   "id": "6d9082db-6600-4510-a009-c1ab5e8af511",
   "metadata": {},
   "source": [
    "---"
   ]
  },
  {
   "cell_type": "markdown",
   "id": "faf79bdb-d7fc-4ee0-964d-df00973d76aa",
   "metadata": {},
   "source": [
    "### 가위, 바위, 보\n"
   ]
  },
  {
   "cell_type": "code",
   "execution_count": 40,
   "id": "f248079a-78db-41be-836f-6cbb631386ea",
   "metadata": {},
   "outputs": [
    {
     "name": "stdin",
     "output_type": "stream",
     "text": [
      " 2 2\n"
     ]
    },
    {
     "name": "stdout",
     "output_type": "stream",
     "text": [
      "무승부\n"
     ]
    }
   ],
   "source": [
    "a, b = map(int, input().split())\n",
    "\n",
    "#가위=1, 바위=2, 보=3\n",
    "if (a==1 or 2 or 3) or (b==1 or 2 or 3):\n",
    "     if a==b:\n",
    "        print('무승부')\n",
    "     elif (a==2 and b==1) or (a==3 and b==2) or (a==1 and b==3):\n",
    "        print('A승B패')\n",
    "     else:\n",
    "        print('B승A패')\n",
    "else:\n",
    "    print('잘못된 입력')\n"
   ]
  },
  {
   "cell_type": "code",
   "execution_count": null,
   "id": "b40ea678-be76-44dc-91d6-56d8ef6a72dd",
   "metadata": {},
   "outputs": [],
   "source": [
    "if a>3 or b>3:\n",
    "    print('잘못된 입력')\n",
    "elif a==b:\n",
    "    print('무승부')\n",
    "elif (a==1 and b==3) or (a==2 and b==1) or (a==3 and b==2):\n",
    "    print('A승B패')\n",
    "else:\n",
    "    print('B승A패')"
   ]
  }
 ],
 "metadata": {
  "kernelspec": {
   "display_name": "Python 3 (ipykernel)",
   "language": "python",
   "name": "python3"
  },
  "language_info": {
   "codemirror_mode": {
    "name": "ipython",
    "version": 3
   },
   "file_extension": ".py",
   "mimetype": "text/x-python",
   "name": "python",
   "nbconvert_exporter": "python",
   "pygments_lexer": "ipython3",
   "version": "3.12.6"
  }
 },
 "nbformat": 4,
 "nbformat_minor": 5
}
