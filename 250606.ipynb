{
  "nbformat": 4,
  "nbformat_minor": 0,
  "metadata": {
    "colab": {
      "provenance": []
    },
    "kernelspec": {
      "name": "python3",
      "display_name": "Python 3"
    },
    "language_info": {
      "name": "python"
    }
  },
  "cells": [
    {
      "cell_type": "code",
      "execution_count": 1,
      "metadata": {
        "id": "cIhK_3Exvzbq"
      },
      "outputs": [],
      "source": [
        "# 함수 선언\n",
        "def greet():\n",
        "    \"\"\"간단한 인사 메시지를 출력하는 함수입니다.\"\"\" # 이것을 독스트링(docstring)이라고 하며, 함수에 대한 설명을 적습니다.\n",
        "    print(\"안녕하세요! 파이썬 함수 학습을 시작합니다.\")\n",
        "    print(\"만나서 반갑습니다.\")"
      ]
    },
    {
      "cell_type": "code",
      "source": [
        "greet()"
      ],
      "metadata": {
        "colab": {
          "base_uri": "https://localhost:8080/"
        },
        "id": "RjAJEWll2KAG",
        "outputId": "796ddbcc-94d4-466c-b19a-6273ede7b5a1"
      },
      "execution_count": 2,
      "outputs": [
        {
          "output_type": "stream",
          "name": "stdout",
          "text": [
            "안녕하세요! 파이썬 함수 학습을 시작합니다.\n",
            "만나서 반갑습니다.\n"
          ]
        }
      ]
    },
    {
      "cell_type": "code",
      "source": [
        "def add(a, b):\n",
        "    result = a + b\n",
        "    print(f\"{a} + {b} = {result}\")\n",
        "\n",
        "add(3, 5)"
      ],
      "metadata": {
        "colab": {
          "base_uri": "https://localhost:8080/"
        },
        "id": "z3elMprP2LVk",
        "outputId": "e0ceeee4-065f-48c1-d4a6-9f29f97390f7"
      },
      "execution_count": 3,
      "outputs": [
        {
          "output_type": "stream",
          "name": "stdout",
          "text": [
            "3 + 5 = 8\n"
          ]
        }
      ]
    },
    {
      "cell_type": "code",
      "source": [
        "# 함수 선언 (매개변수: name)\n",
        "def greet_person(name):\n",
        "    \"\"\"지정된 사람에게 인사하는 함수입니다.\"\"\"\n",
        "    print(f\"안녕하세요, {name}님!\")\n",
        "\n",
        "# 함수 호출 (인수: \"홍길동\")\n",
        "greet_person(\"홍길동\")  # name 매개변수에 \"홍길동\" 문자열이 전달됨\n",
        "greet_person(\"이순신\")  # name 매개변수에 \"이순신\" 문자열이 전달됨\n",
        "\n",
        "# 출력 결과:\n",
        "# 안녕하세요, 홍길동님!\n",
        "# 안녕하세요, 이순신님!"
      ],
      "metadata": {
        "colab": {
          "base_uri": "https://localhost:8080/"
        },
        "id": "r9Eonk9z3InS",
        "outputId": "1279c821-a21d-451a-df5f-75969d3f0b95"
      },
      "execution_count": 4,
      "outputs": [
        {
          "output_type": "stream",
          "name": "stdout",
          "text": [
            "안녕하세요, 홍길동님!\n",
            "안녕하세요, 이순신님!\n"
          ]
        }
      ]
    },
    {
      "cell_type": "code",
      "source": [
        "# 함수 선언\n",
        "def describe_pet(animal_type, pet_name):\n",
        "    \"\"\"애완동물의 종류와 이름을 출력합니다.\"\"\"\n",
        "    print(f\"저의 애완동물은 {animal_type}이고, 이름은 {pet_name}입니다.\")\n",
        "\n",
        "# 함수 호출 (키워드 인수 사용, 순서 변경)\n",
        "describe_pet(pet_name=\"해피\", animal_type=\"강아지\")\n",
        "# animal_type에 \"강아지\", pet_name에 \"해피\"가 정확히 전달됨\n",
        "\n",
        "# 출력 결과:\n",
        "# 저의 애완동물은 강아지이고, 이름은 해피입니다."
      ],
      "metadata": {
        "colab": {
          "base_uri": "https://localhost:8080/"
        },
        "id": "9gNc10JY3bpg",
        "outputId": "e3db89e2-4e6d-49e0-fc12-96368bf54a6b"
      },
      "execution_count": 5,
      "outputs": [
        {
          "output_type": "stream",
          "name": "stdout",
          "text": [
            "저의 애완동물은 강아지이고, 이름은 해피입니다.\n"
          ]
        }
      ]
    },
    {
      "cell_type": "code",
      "source": [
        "def greet_with_message(name, message=\"안녕하세요\"):\n",
        "    \"\"\"지정된 사람에게 지정된 메시지로 인사하거나, 기본 메시지로 인사합니다.\"\"\"\n",
        "    print(f\"{message}, {name}님!\")"
      ],
      "metadata": {
        "id": "EIai0hy54sOG"
      },
      "execution_count": 6,
      "outputs": []
    },
    {
      "cell_type": "code",
      "source": [
        "greet_with_message(\"박지성\")  # message 인수를 생략 -> 기본값 \"안녕하세요\" 사용\n",
        "greet_with_message(\"손흥민\", \"환영합니다\") # message 인수를 전달 -> \"환영합니다\" 사용"
      ],
      "metadata": {
        "colab": {
          "base_uri": "https://localhost:8080/"
        },
        "id": "94vz4-hN5AcQ",
        "outputId": "0c3bed22-6d0a-4611-d850-f7abc43c9167"
      },
      "execution_count": 7,
      "outputs": [
        {
          "output_type": "stream",
          "name": "stdout",
          "text": [
            "안녕하세요, 박지성님!\n",
            "환영합니다, 손흥민님!\n"
          ]
        }
      ]
    },
    {
      "cell_type": "code",
      "source": [
        "# 함수 선언 (discount_rate에 기본값 0.1 (10%) 설정)\n",
        "def calculate_price(price, discount_rate=0.1):\n",
        "    \"\"\"할인된 가격을 계산하여 출력합니다.\"\"\"\n",
        "    discounted_price = price * (1 - discount_rate)\n",
        "    print(f\"원가: {price}원, 할인가: {discounted_price:.0f}원 (할인율: {discount_rate*100}%)\")"
      ],
      "metadata": {
        "id": "rp6GsyEp5Ew8"
      },
      "execution_count": 8,
      "outputs": []
    },
    {
      "cell_type": "code",
      "source": [
        "calculate_price(10000) # discount_rate 생략 -> 기본값 0.1 사용\n",
        "calculate_price(20000, 0.2) # discount_rate에 0.2 (20%) 전달"
      ],
      "metadata": {
        "colab": {
          "base_uri": "https://localhost:8080/"
        },
        "id": "eyFZfayP5jkb",
        "outputId": "7bce570b-5c7a-43e7-93e6-e6b984afaf7b"
      },
      "execution_count": 9,
      "outputs": [
        {
          "output_type": "stream",
          "name": "stdout",
          "text": [
            "원가: 10000원, 할인가: 9000원 (할인율: 10.0%)\n",
            "원가: 20000원, 할인가: 16000원 (할인율: 20.0%)\n"
          ]
        }
      ]
    },
    {
      "cell_type": "code",
      "source": [
        "def add_numbers(a, b):\n",
        "    \"\"\"두 숫자를 더한 결과를 반환합니다.\"\"\"\n",
        "    sum_result = a + b\n",
        "    return sum_result # 계산 결과를 반환\n",
        "\n",
        "result = add_numbers(5, 3)\n",
        "print(f\"5 + 3의 결과는 {result}입니다.\")\n",
        "\n",
        "another_result = add_numbers(10, 20)\n",
        "print(f\"10 + 20의 결과는 {another_result}입니다.\")"
      ],
      "metadata": {
        "colab": {
          "base_uri": "https://localhost:8080/"
        },
        "id": "EH91HLda5j6Q",
        "outputId": "845168f9-2f40-4b50-b509-ec51910d2660"
      },
      "execution_count": 11,
      "outputs": [
        {
          "output_type": "stream",
          "name": "stdout",
          "text": [
            "5 + 3의 결과는 8입니다.\n",
            "10 + 20의 결과는 30입니다.\n"
          ]
        }
      ]
    },
    {
      "cell_type": "code",
      "source": [
        "import math # math 모듈 사용 (pi 값)\n",
        "\n",
        "def calculate_circle_area(radius):\n",
        "    \"\"\"원의 반지름을 받아 넓이를 계산하여 반환합니다.\"\"\"\n",
        "    area = math.pi * radius * radius\n",
        "    return area\n",
        "\n",
        "circle1_area = calculate_circle_area(5)\n",
        "print(f\"반지름이 5인 원의 넓이: {circle1_area:.2f}\")\n",
        "\n",
        "circle2_area = calculate_circle_area(10)\n",
        "print(f\"반지름이 10인 원의 넓이: {circle2_area:.2f}\")"
      ],
      "metadata": {
        "colab": {
          "base_uri": "https://localhost:8080/"
        },
        "id": "0qLgnZ8I6Mpf",
        "outputId": "88b56dcb-26d8-46e2-8489-dca6f64b7fb4"
      },
      "execution_count": 13,
      "outputs": [
        {
          "output_type": "stream",
          "name": "stdout",
          "text": [
            "반지름이 5인 원의 넓이: 78.54\n",
            "반지름이 10인 원의 넓이: 314.16\n"
          ]
        }
      ]
    },
    {
      "cell_type": "code",
      "source": [
        "# 함수 선언\n",
        "def get_user_info():\n",
        "    \"\"\"사용자로부터 이름과 나이를 입력받아 튜플로 반환합니다.\"\"\"\n",
        "    name = input(\"이름을 입력하세요: \")\n",
        "    age = int(input(\"나이를 입력하세요: \")) # 나이는 숫자로 변환\n",
        "    return name, age # (name, age) 튜플이 반환됨"
      ],
      "metadata": {
        "id": "qxog_r8o6bY7"
      },
      "execution_count": 14,
      "outputs": []
    },
    {
      "cell_type": "code",
      "source": [
        "user_data = get_user_info()\n",
        "print(f\"이름: {user_data[0]}, 나이: {user_data[1]}\")"
      ],
      "metadata": {
        "colab": {
          "base_uri": "https://localhost:8080/"
        },
        "id": "yYztIDwe-wxf",
        "outputId": "2e8f7709-a389-431f-b6e9-282fd3abfb61"
      },
      "execution_count": 15,
      "outputs": [
        {
          "output_type": "stream",
          "name": "stdout",
          "text": [
            "이름을 입력하세요: 홍길동\n",
            "나이를 입력하세요: 30\n",
            "이름: 홍길동, 나이: 30\n"
          ]
        }
      ]
    },
    {
      "cell_type": "code",
      "source": [
        "user_name, user_age = get_user_info()\n",
        "print(f\"이름: {user_name}, 나이: {user_age}\")"
      ],
      "metadata": {
        "colab": {
          "base_uri": "https://localhost:8080/"
        },
        "id": "ROVFM_eA-z42",
        "outputId": "bf6509a2-7160-4a3c-fbde-dc0879f6ba47"
      },
      "execution_count": 17,
      "outputs": [
        {
          "output_type": "stream",
          "name": "stdout",
          "text": [
            "이름을 입력하세요: 이순신\n",
            "나이를 입력하세요: 45\n",
            "이름: 이순신, 나이: 45\n"
          ]
        }
      ]
    },
    {
      "cell_type": "code",
      "source": [
        "# 함수 선언\n",
        "def find_min_max(numbers):\n",
        "    \"\"\"숫자 리스트에서 최솟값과 최댓값을 찾아 튜플로 반환합니다.\"\"\"\n",
        "    if not numbers: # 리스트가 비어있으면 None 반환\n",
        "        return None, None\n",
        "\n",
        "    min_val = numbers[0]\n",
        "    max_val = numbers[0]\n",
        "    for num in numbers:\n",
        "        if num < min_val:\n",
        "            min_val = num\n",
        "        if num > max_val:\n",
        "            max_val = num\n",
        "    return min_val, max_val # (min_val, max_val) 튜플 반환\n",
        "\n",
        "# 함수 호출 및 반환값 사용\n",
        "my_list = [3, 1, 4, 1, 5, 9, 2, 6]\n",
        "minimum, maximum = find_min_max(my_list) # 반환된 튜플을 각각 minimum, maximum에 저장\n",
        "print(f\"리스트: {my_list}\")\n",
        "print(f\"최솟값: {minimum}, 최댓값: {maximum}\")\n",
        "\n",
        "empty_list = []\n",
        "min_e, max_e = find_min_max(empty_list)\n",
        "print(f\"빈 리스트의 최솟값: {min_e}, 최댓값: {max_e}\")"
      ],
      "metadata": {
        "colab": {
          "base_uri": "https://localhost:8080/"
        },
        "id": "YauhFZSK-8eV",
        "outputId": "c4bb7b25-0dc3-4754-bb44-d84338fbbb12"
      },
      "execution_count": 19,
      "outputs": [
        {
          "output_type": "stream",
          "name": "stdout",
          "text": [
            "리스트: [3, 1, 4, 1, 5, 9, 2, 6]\n",
            "최솟값: 1, 최댓값: 9\n",
            "빈 리스트의 최솟값: None, 최댓값: None\n"
          ]
        }
      ]
    },
    {
      "cell_type": "code",
      "source": [
        "# 전역 변수\n",
        "global_variable = \"전역 변수입니다.\"\n",
        "\n",
        "def scope_test_function():\n",
        "    # 지역 변수\n",
        "    local_variable = \"지역 변수입니다.\"\n",
        "    print(f\"함수 내부에서 local_variable: {local_variable}\")\n",
        "    print(f\"함수 내부에서 global_variable: {global_variable}\") # 함수 내에서 전역 변수 읽기 가능\n",
        "\n",
        "# 함수 호출\n",
        "scope_test_function()\n",
        "\n",
        "print(f\"함수 외부에서 global_variable: {global_variable}\")\n",
        "# print(f\"함수 외부에서 local_variable: {local_variable}\") # 주석 해제 시 NameError 발생!\n",
        "\n",
        "# 함수 내부의 지역변수로 함수 밖에서 호출할 경우 error"
      ],
      "metadata": {
        "colab": {
          "base_uri": "https://localhost:8080/"
        },
        "id": "LsKtnRTl_nK9",
        "outputId": "181de20e-cc44-4519-ee06-5473559c22b4"
      },
      "execution_count": 23,
      "outputs": [
        {
          "output_type": "stream",
          "name": "stdout",
          "text": [
            "함수 내부에서 local_variable: 지역 변수입니다.\n",
            "함수 내부에서 global_variable: 전역 변수입니다.\n",
            "함수 외부에서 global_variable: 전역 변수입니다.\n"
          ]
        }
      ]
    },
    {
      "cell_type": "code",
      "source": [
        "def is_even(number):\n",
        "    \"\"\"숫자가 짝수인지 판별하여 True 또는 False를 반환합니다.\"\"\"\n",
        "    if number % 2 == 0: # 2로 나눈 나머지가 0이면 짝수\n",
        "        return True\n",
        "    else:\n",
        "        return False"
      ],
      "metadata": {
        "id": "eaJ2cAvoBgse"
      },
      "execution_count": 26,
      "outputs": []
    },
    {
      "cell_type": "code",
      "source": [
        "print(f\"4는 짝수인가? {is_even(4)}\")\n",
        "print(f\"7은 짝수인가? {is_even(7)}\")\n",
        "print(f\"0은 짝수인가? {is_even(0)}\")"
      ],
      "metadata": {
        "colab": {
          "base_uri": "https://localhost:8080/"
        },
        "id": "TGKvBE3SBiVY",
        "outputId": "21b18244-1aa2-4e36-b882-aef69dd31b8a"
      },
      "execution_count": 25,
      "outputs": [
        {
          "output_type": "stream",
          "name": "stdout",
          "text": [
            "4는 짝수인가? True\n",
            "7은 짝수인가? False\n",
            "0은 짝수인가? True\n"
          ]
        }
      ]
    },
    {
      "cell_type": "code",
      "source": [],
      "metadata": {
        "id": "ofKrDXTnBtpS"
      },
      "execution_count": null,
      "outputs": []
    }
  ]
}